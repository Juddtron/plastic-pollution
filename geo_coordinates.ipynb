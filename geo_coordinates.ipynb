{
 "cells": [
  {
   "cell_type": "code",
   "execution_count": 11,
   "id": "dc96df0c-fa43-46aa-b82f-69e6908e8f46",
   "metadata": {},
   "outputs": [],
   "source": [
    "# import dependencies\n",
    "import csv\n",
    "import requests\n",
    "from pathlib import Path\n",
    "from geopy.geocoders import GoogleV3\n",
    "from api_keys import geocode_api_key    #Important! please create your own Google map API account to make code this work properly\n",
    "# from io imoprt StringIO"
   ]
  },
  {
   "cell_type": "code",
   "execution_count": 12,
   "id": "b647f24a-ac80-4aff-a191-558d698f8ea8",
   "metadata": {},
   "outputs": [
    {
     "name": "stdout",
     "output_type": "stream",
     "text": [
      "True\n"
     ]
    }
   ],
   "source": [
    "# define the path to the CSV file\n",
    "csv_file = Path(\"./Resources/coordinates_test2.csv\")\n",
    "print(csv_file.exists())\n",
    "\n",
    "# define the path of the output CSV file\n",
    "output_csv_file = Path(\"./Resources/coordinates_with_country.csv\")\n",
    "    "
   ]
  },
  {
   "cell_type": "code",
   "execution_count": 3,
   "id": "071c0df2-23fb-4f33-9c7b-0daba448f6c7",
   "metadata": {
    "scrolled": true
   },
   "outputs": [
    {
     "name": "stdout",
     "output_type": "stream",
     "text": [
      "Latitude: 31.9375, Longtitude: 120.2375, Location: \"W6PP+XX Jingjiang, Taizhou, Jiangsu, China\"\n",
      "Latitude: 38.9875, Longtitude: 117.7208333, Location: \"China, Tian Jin Shi, Bin Hai Xin Qu, 航一路 邮政编码: 300456\"\n",
      "Latitude: 53.1125, Longtitude: 140.7041667, Location: \"4P73+2M Nikolayevsk-on-Amur, Khabarovsk Krai, Russia\"\n",
      "Latitude: 23.22083333, Longtitude: 90.62916667, Location: \"6JCH+8M Rajrajeshwar, Bangladesh\"\n",
      "Latitude: 34.4625, Longtitude: 119.7791667, Location: \"FQ7H+2M Yanweigangzhen, Guanyun County, Lianyungang, Jiangsu, China\"\n",
      "Latitude: 22.39583333, Longtitude: 113.2541667, Location: \"97W3+8M Xinhui District, Jiangmen, Guangdong Province, China\"\n",
      "Latitude: 37.77083333, Longtitude: 119.1708333, Location: \"8P9XQ5CC+88\"\n",
      "Latitude: 23.9375, Longtitude: 68.59583333, Location: \"7JMCWHPW+X8\"\n",
      "Latitude: 9.6125, Longtitude: 106.2541667, Location: \"J763+XM Cù Lao Dung District, Soc Trang, Vietnam\"\n"
     ]
    }
   ],
   "source": [
    "# create a function get the geocoding logic for latitude and longitude values\n",
    "def get_location_name(lat, lon):\n",
    "    try: \n",
    "        geolocator = GoogleV3(api_key=geocode_api_key)\n",
    "        location = geolocator.reverse((lat, lon), exactly_one=True)\n",
    "        return location.address if location else \"Location not found\"\n",
    "    except Exception as e:\n",
    "        return f\"Error: {str(e)}\"\n",
    "\n",
    "if __name__ == \"__main__\":\n",
    "    # Store the latitude and longitude in the lists\n",
    "    latitudes = []\n",
    "    longitudes = []\n",
    "\n",
    "    # Read the data from the CSV file\n",
    "    with open(csv_file, \"r\") as csvfile:\n",
    "        reader = csv.DictReader(csvfile)\n",
    "        for item in reader:\n",
    "            latitudes.append(float(item[\"latitude\"]))\n",
    "            longitudes.append(float(item[\"longitude\"]))\n",
    "\n",
    "    # Process the latitude and longitude values\n",
    "    for lat, lon in zip(latitudes, longitudes):\n",
    "        location_name = get_location_name(lat, lon)\n",
    "\n",
    "        # Clean the location_name of special characters and newline\n",
    "        location_name = location_name.replace(\"\\n\", \" \").replace(\"\\r\", \" \").strip()\n",
    "        # location_name = location_name.encode(\"ascii\", \"ignore\").decode(\"utf-8\")\n",
    "\n",
    "        # Enclose the location_name in double quotes\n",
    "        location_name = f'\"{location_name}\"'\n",
    "        \n",
    "        \n",
    "        print(f\"Latitude: {lat}, Longtitude: {lon}, Location: {location_name}\")\n",
    "\n",
    "    # Write the results to the output CSV file\n",
    "    # with open(output_csv_file, \"w\", newline=\"\") as csvfile:\n",
    "    #     fieldnames = [\"latitude\", \"longitude\", \"location_name\"]\n",
    "    #     writer = csv.DictWriter(csvfile, fieldnames=fieldnames)\n",
    "\n",
    "    #     writer.writeheader()\n",
    "    #     for lat, lon, name in zip(latitudes, longitudes, location_name):\n",
    "    #         writer.writerow({\"latitude\": lat, \"longitude\": lon, \"location_name\": name})\n",
    "        \n",
    "    # print(\"Results saved to\", output_csv_file)\n",
    "        \n",
    "        "
   ]
  },
  {
   "cell_type": "code",
   "execution_count": 13,
   "id": "3cb8d979-51a4-43f6-afd6-a96fa25c88df",
   "metadata": {},
   "outputs": [
    {
     "name": "stdout",
     "output_type": "stream",
     "text": [
      " China\n",
      " 航一路 邮政编码: 300456\n",
      " Russia\n",
      " Bangladesh\n",
      " China\n",
      " China\n",
      "8P9XQ5CC+88\n",
      "7JMCWHPW+X8\n",
      " Vietnam\n",
      "Results saved to Resources\\coordinates_with_country.csv\n"
     ]
    }
   ],
   "source": [
    "# create a function get the geocoding logic for latitude and longitude values\n",
    "def get_location_name(lat, lon):\n",
    "    try: \n",
    "        geolocator = GoogleV3(api_key=geocode_api_key)\n",
    "        location = geolocator.reverse((lat, lon), exactly_one=True)\n",
    "        return location.address if location else \"Location not found\"\n",
    "    except Exception as e:\n",
    "        return f\"Error: {str(e)}\"\n",
    "\n",
    "if __name__ == \"__main__\":\n",
    "    # Store the latitude and longitude in the lists\n",
    "    latitudes = []\n",
    "    longitudes = []\n",
    "\n",
    "    # Read the data from the CSV file\n",
    "    with open(csv_file, \"r\") as csvfile:\n",
    "        reader = csv.DictReader(csvfile)\n",
    "        for item in reader:\n",
    "            latitudes.append(float(item[\"latitude\"]))\n",
    "            longitudes.append(float(item[\"longitude\"]))\n",
    "\n",
    "    # Process the latitude and longitude values\n",
    "    for lat, lon in zip(latitudes, longitudes):\n",
    "        location_name = get_location_name(lat, lon)\n",
    "\n",
    "        # Clean the location_name of special characters and newline\n",
    "        location_name = location_name.replace(\"\\n\", \" \").replace(\"\\r\", \" \").strip()\n",
    "        # location_name = location_name.encode(\"ascii\", \"ignore\").decode(\"utf-8\")\n",
    "\n",
    "        # Enclose the location_name in double quotes\n",
    "        # location_name = f'\"{location_name}\"'\n",
    "\n",
    "        # Split the location_name by `,`\n",
    "        location_parts = location_name.split(',')\n",
    "        # print(location_parts)\n",
    "        \n",
    "        country = location_parts[-1]\n",
    "        # print(f\"{lat},{lon},{location_name}\")\n",
    "        print(country)\n",
    "\n",
    "    # Write the results to the output CSV file\n",
    "    with open(output_csv_file, \"w\", newline=\"\") as csvfile:\n",
    "        fieldnames = [\"latitude\", \"longitude\", \"country\"]\n",
    "        writer = csv.DictWriter(csvfile, fieldnames=fieldnames)\n",
    "\n",
    "        writer.writeheader()\n",
    "        for lat, lon, name in zip(latitudes, longitudes, country):\n",
    "            writer.writerow({\"latitude\": lat, \"longitude\": lon, \"country\": name})\n",
    "        \n",
    "    print(\"Results saved to\", output_csv_file)\n",
    "        "
   ]
  },
  {
   "cell_type": "code",
   "execution_count": 14,
   "id": "02111523-f1db-4649-9a80-790423d36568",
   "metadata": {},
   "outputs": [
    {
     "name": "stdout",
     "output_type": "stream",
     "text": [
      "Latitude: 31.9375, Longtitude: 120.2375, Location: W6PP+XX Jingjiang, Taizhou, Jiangsu, China, Country: China\n",
      "Latitude: 38.9875, Longtitude: 117.7208333, Location: China, Tian Jin Shi, Bin Hai Xin Qu, 航一路 邮政编码: 300456, Country: 航一路 邮政编码: 300456\n",
      "Latitude: 53.1125, Longtitude: 140.7041667, Location: 4P73+2M Nikolayevsk-on-Amur, Khabarovsk Krai, Russia, Country: Russia\n",
      "Latitude: 23.22083333, Longtitude: 90.62916667, Location: 6JCH+8M Rajrajeshwar, Bangladesh, Country: Bangladesh\n",
      "Latitude: 34.4625, Longtitude: 119.7791667, Location: FQ7H+2M Yanweigangzhen, Guanyun County, Lianyungang, Jiangsu, China, Country: China\n",
      "Latitude: 22.39583333, Longtitude: 113.2541667, Location: 97W3+8M Xinhui District, Jiangmen, Guangdong Province, China, Country: China\n",
      "Latitude: 37.77083333, Longtitude: 119.1708333, Location: 8P9XQ5CC+88, Country: 8P9XQ5CC+88\n",
      "Latitude: 23.9375, Longtitude: 68.59583333, Location: 7JMCWHPW+X8, Country: 7JMCWHPW+X8\n",
      "Latitude: 9.6125, Longtitude: 106.2541667, Location: J763+XM Cù Lao Dung District, Soc Trang, Vietnam, Country: Vietnam\n",
      "Results saved to Resources\\coordinates_with_country.csv\n"
     ]
    }
   ],
   "source": [
    "def get_country_from_location(location_name):\n",
    "    # Split the location address by commas and get the last part\n",
    "    parts = location_name.split(',')\n",
    "    if len(parts) > 0:\n",
    "        country = parts[-1].strip()\n",
    "        return country\n",
    "    return \"Country not found\"\n",
    "\n",
    "if __name__ == \"__main__\":\n",
    "    # Store the latitude and longitude in the lists\n",
    "    latitudes = []\n",
    "    longitudes = []\n",
    "\n",
    "    # Read the data from the CSV file\n",
    "    with open(csv_file, \"r\") as csvfile:\n",
    "        reader = csv.DictReader(csvfile)\n",
    "        for item in reader:\n",
    "            latitudes.append(float(item[\"latitude\"]))\n",
    "            longitudes.append(float(item[\"longitude\"]))\n",
    "\n",
    "    # Process the latitude and longitude values\n",
    "    for lat, lon in zip(latitudes, longitudes):\n",
    "        location_name = get_location_name(lat, lon)\n",
    "\n",
    "        # Clean the location_name of special characters and newline\n",
    "        location_name = location_name.replace(\"\\n\", \" \").replace(\"\\r\", \" \").strip()\n",
    "        \n",
    "        # Extract the country name from the location_name\n",
    "        country = get_country_from_location(location_name)\n",
    "\n",
    "        print(f\"Latitude: {lat}, Longtitude: {lon}, Location: {location_name}, Country: {country}\")\n",
    "\n",
    "    # Write the results to the output CSV file\n",
    "    with open(output_csv_file, \"w\", newline=\"\") as csvfile:\n",
    "        fieldnames = [\"latitude\", \"longitude\", \"country\"]\n",
    "        writer = csv.DictWriter(csvfile, fieldnames=fieldnames)\n",
    "\n",
    "        writer.writeheader()\n",
    "        for lat, lon, name in zip(latitudes, longitudes, country):\n",
    "            writer.writerow({\"latitude\": lat, \"longitude\": lon, \"country\": name})\n",
    "        \n",
    "    print(\"Results saved to\", output_csv_file)\n"
   ]
  },
  {
   "cell_type": "code",
   "execution_count": null,
   "id": "c83fcdcf-55ba-4d5b-9d8a-30e51856f5af",
   "metadata": {},
   "outputs": [],
   "source": []
  }
 ],
 "metadata": {
  "kernelspec": {
   "display_name": "Python 3 (ipykernel)",
   "language": "python",
   "name": "python3"
  },
  "language_info": {
   "codemirror_mode": {
    "name": "ipython",
    "version": 3
   },
   "file_extension": ".py",
   "mimetype": "text/x-python",
   "name": "python",
   "nbconvert_exporter": "python",
   "pygments_lexer": "ipython3",
   "version": "3.11.5"
  }
 },
 "nbformat": 4,
 "nbformat_minor": 5
}
