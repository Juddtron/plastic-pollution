{
 "cells": [
  {
   "cell_type": "markdown",
   "id": "d7966648",
   "metadata": {},
   "source": [
    "# Plastic Waste to Ocean"
   ]
  },
  {
   "cell_type": "code",
   "execution_count": 1,
   "id": "74997f6f",
   "metadata": {},
   "outputs": [],
   "source": [
    "import pandas as pd\n",
    "import matplotlib.pyplot as plt\n",
    "import scipy.stats as st\n",
    "import numpy as np"
   ]
  },
  {
   "cell_type": "code",
   "execution_count": 2,
   "id": "bcd86606",
   "metadata": {},
   "outputs": [],
   "source": [
    "plastic_waste_path = \"plastic-pollution- Mismanaged plastic waste to ocean per capita (kg per year).csv\""
   ]
  },
  {
   "cell_type": "code",
   "execution_count": 3,
   "id": "22ba6a8f",
   "metadata": {
    "scrolled": true
   },
   "outputs": [],
   "source": [
    "plastic_waste = pd.read_csv(plastic_waste_path)\n"
   ]
  },
  {
   "cell_type": "code",
   "execution_count": 4,
   "id": "6f25345d",
   "metadata": {},
   "outputs": [],
   "source": [
    "mismanaged_plastic = pd.DataFrame(plastic_waste)"
   ]
  },
  {
   "cell_type": "code",
   "execution_count": 5,
   "id": "3e12a866",
   "metadata": {
    "scrolled": true
   },
   "outputs": [
    {
     "data": {
      "text/html": [
       "<div>\n",
       "<style scoped>\n",
       "    .dataframe tbody tr th:only-of-type {\n",
       "        vertical-align: middle;\n",
       "    }\n",
       "\n",
       "    .dataframe tbody tr th {\n",
       "        vertical-align: top;\n",
       "    }\n",
       "\n",
       "    .dataframe thead th {\n",
       "        text-align: right;\n",
       "    }\n",
       "</style>\n",
       "<table border=\"1\" class=\"dataframe\">\n",
       "  <thead>\n",
       "    <tr style=\"text-align: right;\">\n",
       "      <th></th>\n",
       "      <th>Entity</th>\n",
       "      <th>Code</th>\n",
       "      <th>Year</th>\n",
       "      <th>Plastics to Ocean (per capita)</th>\n",
       "    </tr>\n",
       "  </thead>\n",
       "  <tbody>\n",
       "    <tr>\n",
       "      <th>0</th>\n",
       "      <td>Africa</td>\n",
       "      <td>NaN</td>\n",
       "      <td>2019</td>\n",
       "      <td>0.059823</td>\n",
       "    </tr>\n",
       "    <tr>\n",
       "      <th>1</th>\n",
       "      <td>Albania</td>\n",
       "      <td>ALB</td>\n",
       "      <td>2019</td>\n",
       "      <td>0.543214</td>\n",
       "    </tr>\n",
       "    <tr>\n",
       "      <th>2</th>\n",
       "      <td>Algeria</td>\n",
       "      <td>DZA</td>\n",
       "      <td>2019</td>\n",
       "      <td>0.134114</td>\n",
       "    </tr>\n",
       "    <tr>\n",
       "      <th>3</th>\n",
       "      <td>Angola</td>\n",
       "      <td>AGO</td>\n",
       "      <td>2019</td>\n",
       "      <td>0.027023</td>\n",
       "    </tr>\n",
       "    <tr>\n",
       "      <th>4</th>\n",
       "      <td>Antigua and Barbuda</td>\n",
       "      <td>ATG</td>\n",
       "      <td>2019</td>\n",
       "      <td>0.020619</td>\n",
       "    </tr>\n",
       "    <tr>\n",
       "      <th>...</th>\n",
       "      <td>...</td>\n",
       "      <td>...</td>\n",
       "      <td>...</td>\n",
       "      <td>...</td>\n",
       "    </tr>\n",
       "    <tr>\n",
       "      <th>160</th>\n",
       "      <td>Vietnam</td>\n",
       "      <td>VNM</td>\n",
       "      <td>2019</td>\n",
       "      <td>0.292561</td>\n",
       "    </tr>\n",
       "    <tr>\n",
       "      <th>161</th>\n",
       "      <td>Western Sahara</td>\n",
       "      <td>ESH</td>\n",
       "      <td>2019</td>\n",
       "      <td>0.065292</td>\n",
       "    </tr>\n",
       "    <tr>\n",
       "      <th>162</th>\n",
       "      <td>World</td>\n",
       "      <td>OWID_WRL</td>\n",
       "      <td>2019</td>\n",
       "      <td>0.126980</td>\n",
       "    </tr>\n",
       "    <tr>\n",
       "      <th>163</th>\n",
       "      <td>Yemen</td>\n",
       "      <td>YEM</td>\n",
       "      <td>2019</td>\n",
       "      <td>0.008641</td>\n",
       "    </tr>\n",
       "    <tr>\n",
       "      <th>164</th>\n",
       "      <td>Zimbabwe</td>\n",
       "      <td>ZWE</td>\n",
       "      <td>2019</td>\n",
       "      <td>0.000000</td>\n",
       "    </tr>\n",
       "  </tbody>\n",
       "</table>\n",
       "<p>165 rows × 4 columns</p>\n",
       "</div>"
      ],
      "text/plain": [
       "                  Entity      Code  Year  Plastics to Ocean (per capita)\n",
       "0                 Africa       NaN  2019                        0.059823\n",
       "1                Albania       ALB  2019                        0.543214\n",
       "2                Algeria       DZA  2019                        0.134114\n",
       "3                 Angola       AGO  2019                        0.027023\n",
       "4    Antigua and Barbuda       ATG  2019                        0.020619\n",
       "..                   ...       ...   ...                             ...\n",
       "160              Vietnam       VNM  2019                        0.292561\n",
       "161       Western Sahara       ESH  2019                        0.065292\n",
       "162                World  OWID_WRL  2019                        0.126980\n",
       "163                Yemen       YEM  2019                        0.008641\n",
       "164             Zimbabwe       ZWE  2019                        0.000000\n",
       "\n",
       "[165 rows x 4 columns]"
      ]
     },
     "execution_count": 5,
     "metadata": {},
     "output_type": "execute_result"
    }
   ],
   "source": [
    "mismanaged_plastic.rename(columns={'Mismanaged plastic waste to ocean per capita (kg per year)':'Plastics to Ocean (per capita)'},\n",
    "                         inplace = True)\n",
    "mismanaged_plastic"
   ]
  },
  {
   "cell_type": "code",
   "execution_count": 6,
   "id": "633e5df3",
   "metadata": {},
   "outputs": [
    {
     "data": {
      "text/html": [
       "<div>\n",
       "<style scoped>\n",
       "    .dataframe tbody tr th:only-of-type {\n",
       "        vertical-align: middle;\n",
       "    }\n",
       "\n",
       "    .dataframe tbody tr th {\n",
       "        vertical-align: top;\n",
       "    }\n",
       "\n",
       "    .dataframe thead th {\n",
       "        text-align: right;\n",
       "    }\n",
       "</style>\n",
       "<table border=\"1\" class=\"dataframe\">\n",
       "  <thead>\n",
       "    <tr style=\"text-align: right;\">\n",
       "      <th></th>\n",
       "      <th>Entity</th>\n",
       "      <th>Plastics to Ocean (per capita)</th>\n",
       "    </tr>\n",
       "  </thead>\n",
       "  <tbody>\n",
       "    <tr>\n",
       "      <th>1</th>\n",
       "      <td>Albania</td>\n",
       "      <td>0.543214</td>\n",
       "    </tr>\n",
       "    <tr>\n",
       "      <th>13</th>\n",
       "      <td>Belize</td>\n",
       "      <td>0.958974</td>\n",
       "    </tr>\n",
       "    <tr>\n",
       "      <th>36</th>\n",
       "      <td>Dominica</td>\n",
       "      <td>0.736111</td>\n",
       "    </tr>\n",
       "    <tr>\n",
       "      <th>37</th>\n",
       "      <td>Dominican Republic</td>\n",
       "      <td>0.584412</td>\n",
       "    </tr>\n",
       "    <tr>\n",
       "      <th>38</th>\n",
       "      <td>East Timor</td>\n",
       "      <td>0.552978</td>\n",
       "    </tr>\n",
       "  </tbody>\n",
       "</table>\n",
       "</div>"
      ],
      "text/plain": [
       "                Entity  Plastics to Ocean (per capita)\n",
       "1              Albania                        0.543214\n",
       "13              Belize                        0.958974\n",
       "36            Dominica                        0.736111\n",
       "37  Dominican Republic                        0.584412\n",
       "38          East Timor                        0.552978"
      ]
     },
     "execution_count": 6,
     "metadata": {},
     "output_type": "execute_result"
    }
   ],
   "source": [
    "mismanaged_plastic_high = mismanaged_plastic.loc[mismanaged_plastic['Plastics to Ocean (per capita)']>=0.500000,\n",
    "                                  ['Entity', 'Plastics to Ocean (per capita)']]\n",
    "\n",
    "mismanaged_plastic_high.head()"
   ]
  },
  {
   "cell_type": "code",
   "execution_count": 7,
   "id": "74c20d72",
   "metadata": {},
   "outputs": [
    {
     "data": {
      "text/html": [
       "<div>\n",
       "<style scoped>\n",
       "    .dataframe tbody tr th:only-of-type {\n",
       "        vertical-align: middle;\n",
       "    }\n",
       "\n",
       "    .dataframe tbody tr th {\n",
       "        vertical-align: top;\n",
       "    }\n",
       "\n",
       "    .dataframe thead th {\n",
       "        text-align: right;\n",
       "    }\n",
       "</style>\n",
       "<table border=\"1\" class=\"dataframe\">\n",
       "  <thead>\n",
       "    <tr style=\"text-align: right;\">\n",
       "      <th></th>\n",
       "      <th>Entity</th>\n",
       "      <th>Plastics to Ocean (per capita)</th>\n",
       "    </tr>\n",
       "  </thead>\n",
       "  <tbody>\n",
       "    <tr>\n",
       "      <th>83</th>\n",
       "      <td>Liberia</td>\n",
       "      <td>0.534333</td>\n",
       "    </tr>\n",
       "    <tr>\n",
       "      <th>1</th>\n",
       "      <td>Albania</td>\n",
       "      <td>0.543214</td>\n",
       "    </tr>\n",
       "    <tr>\n",
       "      <th>38</th>\n",
       "      <td>East Timor</td>\n",
       "      <td>0.552978</td>\n",
       "    </tr>\n",
       "    <tr>\n",
       "      <th>37</th>\n",
       "      <td>Dominican Republic</td>\n",
       "      <td>0.584412</td>\n",
       "    </tr>\n",
       "    <tr>\n",
       "      <th>62</th>\n",
       "      <td>Haiti</td>\n",
       "      <td>0.615200</td>\n",
       "    </tr>\n",
       "    <tr>\n",
       "      <th>126</th>\n",
       "      <td>Saint Vincent and the Grenadines</td>\n",
       "      <td>0.729730</td>\n",
       "    </tr>\n",
       "    <tr>\n",
       "      <th>36</th>\n",
       "      <td>Dominica</td>\n",
       "      <td>0.736111</td>\n",
       "    </tr>\n",
       "    <tr>\n",
       "      <th>73</th>\n",
       "      <td>Jamaica</td>\n",
       "      <td>0.791723</td>\n",
       "    </tr>\n",
       "    <tr>\n",
       "      <th>13</th>\n",
       "      <td>Belize</td>\n",
       "      <td>0.958974</td>\n",
       "    </tr>\n",
       "    <tr>\n",
       "      <th>56</th>\n",
       "      <td>Grenada</td>\n",
       "      <td>1.160714</td>\n",
       "    </tr>\n",
       "    <tr>\n",
       "      <th>113</th>\n",
       "      <td>Panama</td>\n",
       "      <td>1.233396</td>\n",
       "    </tr>\n",
       "    <tr>\n",
       "      <th>61</th>\n",
       "      <td>Guyana</td>\n",
       "      <td>1.591315</td>\n",
       "    </tr>\n",
       "    <tr>\n",
       "      <th>87</th>\n",
       "      <td>Malaysia</td>\n",
       "      <td>2.287887</td>\n",
       "    </tr>\n",
       "    <tr>\n",
       "      <th>125</th>\n",
       "      <td>Saint Lucia</td>\n",
       "      <td>2.453552</td>\n",
       "    </tr>\n",
       "    <tr>\n",
       "      <th>151</th>\n",
       "      <td>Trinidad and Tobago</td>\n",
       "      <td>2.549821</td>\n",
       "    </tr>\n",
       "    <tr>\n",
       "      <th>143</th>\n",
       "      <td>Suriname</td>\n",
       "      <td>2.886403</td>\n",
       "    </tr>\n",
       "    <tr>\n",
       "      <th>116</th>\n",
       "      <td>Philippines</td>\n",
       "      <td>3.296161</td>\n",
       "    </tr>\n",
       "  </tbody>\n",
       "</table>\n",
       "</div>"
      ],
      "text/plain": [
       "                               Entity  Plastics to Ocean (per capita)\n",
       "83                            Liberia                        0.534333\n",
       "1                             Albania                        0.543214\n",
       "38                         East Timor                        0.552978\n",
       "37                 Dominican Republic                        0.584412\n",
       "62                              Haiti                        0.615200\n",
       "126  Saint Vincent and the Grenadines                        0.729730\n",
       "36                           Dominica                        0.736111\n",
       "73                            Jamaica                        0.791723\n",
       "13                             Belize                        0.958974\n",
       "56                            Grenada                        1.160714\n",
       "113                            Panama                        1.233396\n",
       "61                             Guyana                        1.591315\n",
       "87                           Malaysia                        2.287887\n",
       "125                       Saint Lucia                        2.453552\n",
       "151               Trinidad and Tobago                        2.549821\n",
       "143                          Suriname                        2.886403\n",
       "116                       Philippines                        3.296161"
      ]
     },
     "execution_count": 7,
     "metadata": {},
     "output_type": "execute_result"
    }
   ],
   "source": [
    "sorted_high = mismanaged_plastic_high.sort_values(['Plastics to Ocean (per capita)'], ascending = True)\n",
    "sorted_high"
   ]
  },
  {
   "cell_type": "code",
   "execution_count": 8,
   "id": "1cd69075",
   "metadata": {
    "scrolled": true
   },
   "outputs": [
    {
     "data": {
      "image/png": "[encoded data removed]",
      "text/plain": [
       "<Figure size 640x480 with 1 Axes>"
      ]
     },
     "metadata": {},
     "output_type": "display_data"
    }
   ],
   "source": [
    "sorted_high.plot(x = 'Entity', y = 'Plastics to Ocean (per capita)', kind='barh', color='c', legend=False)\n",
    "plt.title('Mismanaged plastic waste to ocean per capita',color= 'c', fontsize='large',fontweight='semibold')\n",
    "\n",
    "plt.xlabel('kilograms per year',color= 'c',fontweight='semibold')\n",
    "plt.ylabel('Country',rotation='horizontal',color= 'c',fontweight='semibold')\n",
    "\n",
    "plt.show()\n"
   ]
  },
  {
   "cell_type": "code",
   "execution_count": 9,
   "id": "f7566854",
   "metadata": {},
   "outputs": [
    {
     "data": {
      "text/plain": [
       "165"
      ]
     },
     "execution_count": 9,
     "metadata": {},
     "output_type": "execute_result"
    }
   ],
   "source": [
    "# Number of countries in study\n",
    "countries = len(mismanaged_plastic['Entity'].unique())\n",
    "countries"
   ]
  },
  {
   "cell_type": "code",
   "execution_count": 10,
   "id": "ae92d0fa",
   "metadata": {},
   "outputs": [
    {
     "data": {
      "image/png": "[encoded data removed]",
      "text/plain": [
       "<Figure size 640x480 with 1 Axes>"
      ]
     },
     "metadata": {},
     "output_type": "display_data"
    }
   ],
   "source": [
    "mismanaged_plastic.boxplot(grid = False,column='Plastics to Ocean (per capita)',\n",
    "                           patch_artist= True,boxprops = dict(facecolor = 'c'),\n",
    "                           flierprops={'marker': 'o', 'markersize': 10, 'markerfacecolor': 'c'})\n",
    "plt.ylabel('kilograms per year',color= 'c',fontweight='semibold')\n",
    "plt.tick_params(colors='c', which='both', labelsize='medium', width=2)\n"
   ]
  },
  {
   "cell_type": "markdown",
   "id": "7b9e738c",
   "metadata": {},
   "source": [
    "# Marine Microplastics\n",
    "mongoimport --type csv -d plastic_pollution -c ocean_plastics --headerline --drop MarineMicroplastics_oceanwater.csv\n",
    "mongoimport --type csv -d plastic_pollution -c beach_plastics --headerline --drop MarineMicroplastics_beaches.csv"
   ]
  },
  {
   "cell_type": "code",
   "execution_count": 11,
   "id": "66b59254",
   "metadata": {},
   "outputs": [],
   "source": [
    "from pymongo import MongoClient\n",
    "from pprint import pprint\n",
    "import folium\n",
    "import requests"
   ]
  },
  {
   "cell_type": "code",
   "execution_count": 12,
   "id": "4760a27b",
   "metadata": {},
   "outputs": [],
   "source": [
    "microplastics_path = 'MarineMicroplastics_oceanwater.csv'"
   ]
  },
  {
   "cell_type": "code",
   "execution_count": 13,
   "id": "aa511975",
   "metadata": {},
   "outputs": [],
   "source": [
    "microplastics = pd.read_csv(microplastics_path)"
   ]
  },
  {
   "cell_type": "code",
   "execution_count": 14,
   "id": "33638c02",
   "metadata": {},
   "outputs": [],
   "source": [
    "mongo = MongoClient(port=27017)"
   ]
  },
  {
   "cell_type": "code",
   "execution_count": 15,
   "id": "55ac08e2",
   "metadata": {},
   "outputs": [
    {
     "data": {
      "text/plain": [
       "[{'name': 'admin', 'sizeOnDisk': 40960, 'empty': False},\n",
       " {'name': 'autosaurus', 'sizeOnDisk': 40960, 'empty': False},\n",
       " {'name': 'config', 'sizeOnDisk': 61440, 'empty': False},\n",
       " {'name': 'gardenDB', 'sizeOnDisk': 73728, 'empty': False},\n",
       " {'name': 'local', 'sizeOnDisk': 73728, 'empty': False},\n",
       " {'name': 'met', 'sizeOnDisk': 540672, 'empty': False},\n",
       " {'name': 'petsitly_marketing', 'sizeOnDisk': 57344, 'empty': False},\n",
       " {'name': 'plastic_pollution', 'sizeOnDisk': 4173824, 'empty': False},\n",
       " {'name': 'travel_db', 'sizeOnDisk': 81920, 'empty': False},\n",
       " {'name': 'uk_food', 'sizeOnDisk': 16334848, 'empty': False}]"
      ]
     },
     "execution_count": 15,
     "metadata": {},
     "output_type": "execute_result"
    }
   ],
   "source": [
    "[x for x in mongo.list_databases()]"
   ]
  },
  {
   "cell_type": "code",
   "execution_count": 16,
   "id": "a337d88f",
   "metadata": {},
   "outputs": [],
   "source": [
    "plastic_ocean = mongo['plastic_pollution']"
   ]
  },
  {
   "cell_type": "code",
   "execution_count": 17,
   "id": "acef6054",
   "metadata": {},
   "outputs": [
    {
     "name": "stdout",
     "output_type": "stream",
     "text": [
      "['ocean_plastics', 'beach_plastics']\n"
     ]
    }
   ],
   "source": [
    "print(plastic_ocean.list_collection_names())"
   ]
  },
  {
   "cell_type": "code",
   "execution_count": 18,
   "id": "70b9af02",
   "metadata": {
    "scrolled": true
   },
   "outputs": [
    {
     "name": "stdout",
     "output_type": "stream",
     "text": [
      "{'Accession Link': 'https://www.ncei.noaa.gov/access/metadata/landing-page/bin/iso?id=gov.noaa.nodc:275968',\n",
      " 'Accession Number': 275968,\n",
      " 'Beach Location': '',\n",
      " 'Collecting Time (min)': '',\n",
      " 'Country': '',\n",
      " 'DOI': 'https://doi.org/10.1371/journal.pone.0111913',\n",
      " 'Date': '2/3/2011 12:00:00 AM',\n",
      " 'Density Class': 'Medium',\n",
      " 'Density Range': '0.005-1',\n",
      " 'FID': 118054,\n",
      " 'GlobalID': '08810f2f-2e38-425c-a5b6-90d69b421c58',\n",
      " 'Keywords': 'SV Mir; ORV Alguita; SV Sea Dragon; RV Stad Amsterdam',\n",
      " 'Latitude': -34.7158,\n",
      " 'Long Reference': 'Eriksen, M., L.C.M. Lebreton, H.S. Carson, M. Thiel, C.J. '\n",
      "                   'Moore, J.C. Borerro, F. Galgani, P.G. Ryan, J. Reisser. '\n",
      "                   '2014. Plastic Pollution in the World’s Oceans: More than 5 '\n",
      "                   'Trillion Plastic Pieces Weighing over 250,000 Tons Afloat '\n",
      "                   'at Sea. PLoS ONE 9(12): e111913. '\n",
      "                   'doi:10.1371/journal.pone.0111913',\n",
      " 'Longitude': -49.213,\n",
      " 'Marine Setting': 'Ocean water',\n",
      " 'Measurement': 0.186451,\n",
      " 'Ocean Bottom Depth (m)': '',\n",
      " 'Oceans': 'Atlantic Ocean',\n",
      " 'Organization': '5 Gyres Institute',\n",
      " 'Regions': '',\n",
      " 'Sampling Method': 'Neuston net',\n",
      " 'Sampling Point on Beach': '',\n",
      " 'Sediment Sample Depth (m)': '',\n",
      " 'Short Reference': 'Eriksen et al.2014',\n",
      " 'State': '',\n",
      " 'SubRegions': '',\n",
      " 'Transect Number': '',\n",
      " 'Unit': 'pieces/m3',\n",
      " 'Volunteers Number': '',\n",
      " '_id': ObjectId('659a3490cacc9d1921b670d3'),\n",
      " 'x': -5478366.1004,\n",
      " 'y': -4125326.2568}\n"
     ]
    }
   ],
   "source": [
    "pprint(plastic_ocean.ocean_plastics.find_one())"
   ]
  },
  {
   "cell_type": "code",
   "execution_count": null,
   "id": "e9726180",
   "metadata": {},
   "outputs": [],
   "source": []
  },
  {
   "cell_type": "code",
   "execution_count": 19,
   "id": "79ae3c63",
   "metadata": {},
   "outputs": [
    {
     "name": "stdout",
     "output_type": "stream",
     "text": [
      "['ocean_plastics', 'beach_plastics']\n"
     ]
    }
   ],
   "source": [
    "print(plastic_ocean.list_collection_names())"
   ]
  },
  {
   "cell_type": "code",
   "execution_count": 20,
   "id": "b6e630e6",
   "metadata": {
    "scrolled": true
   },
   "outputs": [
    {
     "name": "stdout",
     "output_type": "stream",
     "text": [
      "{'Accession Link': 'https://www.ncei.noaa.gov/access/metadata/landing-page/bin/iso?id=gov.noaa.nodc:0278270',\n",
      " 'Accession Number': 278270,\n",
      " 'Beach Location': 'Novillero',\n",
      " 'Collecting Time (min)': '',\n",
      " 'Country': 'Mexico',\n",
      " 'DOI': 'https://doi.org/10.1016/j.resconrec.2019.104633',\n",
      " 'Date': '6/11/2018 12:00:00 AM',\n",
      " 'Density Class': 'Medium',\n",
      " 'Density Range': '500-30000',\n",
      " 'FID': 121896,\n",
      " 'GlobalID': 'fd69d820-2d58-4025-90ef-8dd44f333ee4',\n",
      " 'Keywords': 'Mexico',\n",
      " 'Latitude': 22.375112,\n",
      " 'Long Reference': 'Alvarez-Zeferino, J.C., S. Ojeda-Benítez, A. A. '\n",
      "                   'Cruz-Salas, C. Martínez-Salvador, A. Vázquez-Morillas. '\n",
      "                   '2020. Microplastics in Mexican beaches. Resources, '\n",
      "                   'Conservation and Recycling 155, 104633. '\n",
      "                   'https://doi.org/10.1016/j.resconrec.2019.104633',\n",
      " 'Longitude': -105.68474,\n",
      " 'Marine Setting': 'Beach',\n",
      " 'Measurement': 3526.093089,\n",
      " 'Ocean Bottom Depth (m)': '',\n",
      " 'Oceans': 'Pacific Ocean',\n",
      " 'Organization': 'Universidad Autónoma de Baja California, Mexico',\n",
      " 'Regions': '',\n",
      " 'Sampling Method': 'PVC cylinder',\n",
      " 'Sampling Point on Beach': 7,\n",
      " 'Sediment Sample Depth (m)': '',\n",
      " 'Short Reference': 'Alvarez-Zeferino et al. 2020',\n",
      " 'State': 'Nayarit',\n",
      " 'SubRegions': '',\n",
      " 'Transect Number': '',\n",
      " 'Unit': 'pieces/m3',\n",
      " 'Volunteers Number': '',\n",
      " '_id': ObjectId('659a46b519310bbe610de665'),\n",
      " 'x': -11764771.4414,\n",
      " 'y': 2556621.9008}\n"
     ]
    }
   ],
   "source": [
    "pprint(plastic_ocean.beach_plastics.find_one())"
   ]
  },
  {
   "cell_type": "code",
   "execution_count": null,
   "id": "ee880fc1",
   "metadata": {},
   "outputs": [],
   "source": []
  },
  {
   "cell_type": "code",
   "execution_count": 26,
   "id": "74321428",
   "metadata": {},
   "outputs": [
    {
     "data": {
      "text/html": [
       "<div style=\"width:100%;\"><div style=\"position:relative;width:100%;height:0;padding-bottom:60%;\"><span style=\"color:#565656\">Make this Notebook Trusted to load map: File -> Trust Notebook</span><iframe srcdoc=\"&lt;!DOCTYPE html&gt;\n",
       "&lt;html&gt;\n",
       "&lt;head&gt;\n",
       "    \n",
       "    &lt;meta http-equiv=&quot;content-type&quot; content=&quot;text/html; charset=UTF-8&quot; /&gt;\n",
       "    \n",
       "        &lt;script&gt;\n",
       "            L_NO_TOUCH = false;\n",
       "            L_DISABLE_3D = false;\n",
       "        &lt;/script&gt;\n",
       "    \n",
       "    &lt;style&gt;html, body {width: 100%;height: 100%;margin: 0;padding: 0;}&lt;/style&gt;\n",
       "    &lt;style&gt;#map {position:absolute;top:0;bottom:0;right:0;left:0;}&lt;/style&gt;\n",
       "    &lt;script src=&quot;https://cdn.jsdelivr.net/npm/leaflet@1.9.3/dist/leaflet.js&quot;&gt;&lt;/script&gt;\n",
       "    &lt;script src=&quot;https://code.jquery.com/jquery-3.7.1.min.js&quot;&gt;&lt;/script&gt;\n",
       "    &lt;script src=&quot;https://cdn.jsdelivr.net/npm/bootstrap@5.2.2/dist/js/bootstrap.bundle.min.js&quot;&gt;&lt;/script&gt;\n",
       "    &lt;script src=&quot;https://cdnjs.cloudflare.com/ajax/libs/Leaflet.awesome-markers/2.0.2/leaflet.awesome-markers.js&quot;&gt;&lt;/script&gt;\n",
       "    &lt;link rel=&quot;stylesheet&quot; href=&quot;https://cdn.jsdelivr.net/npm/leaflet@1.9.3/dist/leaflet.css&quot;/&gt;\n",
       "    &lt;link rel=&quot;stylesheet&quot; href=&quot;https://cdn.jsdelivr.net/npm/bootstrap@5.2.2/dist/css/bootstrap.min.css&quot;/&gt;\n",
       "    &lt;link rel=&quot;stylesheet&quot; href=&quot;https://netdna.bootstrapcdn.com/bootstrap/3.0.0/css/bootstrap.min.css&quot;/&gt;\n",
       "    &lt;link rel=&quot;stylesheet&quot; href=&quot;https://cdn.jsdelivr.net/npm/@fortawesome/fontawesome-free@6.2.0/css/all.min.css&quot;/&gt;\n",
       "    &lt;link rel=&quot;stylesheet&quot; href=&quot;https://cdnjs.cloudflare.com/ajax/libs/Leaflet.awesome-markers/2.0.2/leaflet.awesome-markers.css&quot;/&gt;\n",
       "    &lt;link rel=&quot;stylesheet&quot; href=&quot;https://cdn.jsdelivr.net/gh/python-visualization/folium/folium/templates/leaflet.awesome.rotate.min.css&quot;/&gt;\n",
       "    \n",
       "            &lt;meta name=&quot;viewport&quot; content=&quot;width=device-width,\n",
       "                initial-scale=1.0, maximum-scale=1.0, user-scalable=no&quot; /&gt;\n",
       "            &lt;style&gt;\n",
       "                #map_0e847f2c45b61592d7f9f0dd675afb8b {\n",
       "                    position: relative;\n",
       "                    width: 100.0%;\n",
       "                    height: 100.0%;\n",
       "                    left: 0.0%;\n",
       "                    top: 0.0%;\n",
       "                }\n",
       "                .leaflet-container { font-size: 1rem; }\n",
       "            &lt;/style&gt;\n",
       "        \n",
       "&lt;/head&gt;\n",
       "&lt;body&gt;\n",
       "    \n",
       "    \n",
       "            &lt;div class=&quot;folium-map&quot; id=&quot;map_0e847f2c45b61592d7f9f0dd675afb8b&quot; &gt;&lt;/div&gt;\n",
       "        \n",
       "&lt;/body&gt;\n",
       "&lt;script&gt;\n",
       "    \n",
       "    \n",
       "            var map_0e847f2c45b61592d7f9f0dd675afb8b = L.map(\n",
       "                &quot;map_0e847f2c45b61592d7f9f0dd675afb8b&quot;,\n",
       "                {\n",
       "                    center: [0.0, 0.0],\n",
       "                    crs: L.CRS.EPSG3857,\n",
       "                    zoom: 2,\n",
       "                    zoomControl: true,\n",
       "                    preferCanvas: false,\n",
       "                }\n",
       "            );\n",
       "\n",
       "            \n",
       "\n",
       "        \n",
       "    \n",
       "            var tile_layer_6cb94a1cffc6170b3989b593c51cca8a = L.tileLayer(\n",
       "                &quot;https://tile.openstreetmap.org/{z}/{x}/{y}.png&quot;,\n",
       "                {&quot;attribution&quot;: &quot;\\u0026copy; \\u003ca href=\\&quot;https://www.openstreetmap.org/copyright\\&quot;\\u003eOpenStreetMap\\u003c/a\\u003e contributors&quot;, &quot;detectRetina&quot;: false, &quot;maxNativeZoom&quot;: 19, &quot;maxZoom&quot;: 19, &quot;minZoom&quot;: 0, &quot;noWrap&quot;: false, &quot;opacity&quot;: 1, &quot;subdomains&quot;: &quot;abc&quot;, &quot;tms&quot;: false}\n",
       "            );\n",
       "        \n",
       "    \n",
       "            tile_layer_6cb94a1cffc6170b3989b593c51cca8a.addTo(map_0e847f2c45b61592d7f9f0dd675afb8b);\n",
       "        \n",
       "&lt;/script&gt;\n",
       "&lt;/html&gt;\" style=\"position:absolute;width:100%;height:100%;left:0;top:0;border:none !important;\" allowfullscreen webkitallowfullscreen mozallowfullscreen></iframe></div></div>"
      ],
      "text/plain": [
       "<folium.folium.Map at 0x1c9ec426ec0>"
      ]
     },
     "execution_count": 26,
     "metadata": {},
     "output_type": "execute_result"
    }
   ],
   "source": [
    "m = folium.Map(location=(0, 0), zoom_start= 2)\n",
    "ocean_pollution = pd.read_csv(\"MarineMicroplastics_oceanwater.csv\")\n",
    "\n",
    "folium.Map(tiles=\"https://{s}.tile.opentopomap.org/{z}/{x}/{y}.png\", \n",
    "           attr=\"Map data: (C) OpenStreetMap contributors, SRTM | Map style: (C) OpenTopoMap (CC-BY-SA))\")\n",
    "folium.circleMarker()\n",
    "m"
   ]
  },
  {
   "cell_type": "code",
   "execution_count": 33,
   "id": "98fb6540",
   "metadata": {},
   "outputs": [
    {
     "data": {
      "text/html": [
       "<div style=\"width:100%;\"><div style=\"position:relative;width:100%;height:0;padding-bottom:60%;\"><span style=\"color:#565656\">Make this Notebook Trusted to load map: File -> Trust Notebook</span><iframe srcdoc=\"&lt;!DOCTYPE html&gt;\n",
       "&lt;html&gt;\n",
       "&lt;head&gt;\n",
       "    \n",
       "    &lt;meta http-equiv=&quot;content-type&quot; content=&quot;text/html; charset=UTF-8&quot; /&gt;\n",
       "    \n",
       "        &lt;script&gt;\n",
       "            L_NO_TOUCH = false;\n",
       "            L_DISABLE_3D = false;\n",
       "        &lt;/script&gt;\n",
       "    \n",
       "    &lt;style&gt;html, body {width: 100%;height: 100%;margin: 0;padding: 0;}&lt;/style&gt;\n",
       "    &lt;style&gt;#map {position:absolute;top:0;bottom:0;right:0;left:0;}&lt;/style&gt;\n",
       "    &lt;script src=&quot;https://cdn.jsdelivr.net/npm/leaflet@1.9.3/dist/leaflet.js&quot;&gt;&lt;/script&gt;\n",
       "    &lt;script src=&quot;https://code.jquery.com/jquery-3.7.1.min.js&quot;&gt;&lt;/script&gt;\n",
       "    &lt;script src=&quot;https://cdn.jsdelivr.net/npm/bootstrap@5.2.2/dist/js/bootstrap.bundle.min.js&quot;&gt;&lt;/script&gt;\n",
       "    &lt;script src=&quot;https://cdnjs.cloudflare.com/ajax/libs/Leaflet.awesome-markers/2.0.2/leaflet.awesome-markers.js&quot;&gt;&lt;/script&gt;\n",
       "    &lt;link rel=&quot;stylesheet&quot; href=&quot;https://cdn.jsdelivr.net/npm/leaflet@1.9.3/dist/leaflet.css&quot;/&gt;\n",
       "    &lt;link rel=&quot;stylesheet&quot; href=&quot;https://cdn.jsdelivr.net/npm/bootstrap@5.2.2/dist/css/bootstrap.min.css&quot;/&gt;\n",
       "    &lt;link rel=&quot;stylesheet&quot; href=&quot;https://netdna.bootstrapcdn.com/bootstrap/3.0.0/css/bootstrap.min.css&quot;/&gt;\n",
       "    &lt;link rel=&quot;stylesheet&quot; href=&quot;https://cdn.jsdelivr.net/npm/@fortawesome/fontawesome-free@6.2.0/css/all.min.css&quot;/&gt;\n",
       "    &lt;link rel=&quot;stylesheet&quot; href=&quot;https://cdnjs.cloudflare.com/ajax/libs/Leaflet.awesome-markers/2.0.2/leaflet.awesome-markers.css&quot;/&gt;\n",
       "    &lt;link rel=&quot;stylesheet&quot; href=&quot;https://cdn.jsdelivr.net/gh/python-visualization/folium/folium/templates/leaflet.awesome.rotate.min.css&quot;/&gt;\n",
       "    \n",
       "            &lt;meta name=&quot;viewport&quot; content=&quot;width=device-width,\n",
       "                initial-scale=1.0, maximum-scale=1.0, user-scalable=no&quot; /&gt;\n",
       "            &lt;style&gt;\n",
       "                #map_df77ad0fa9c37cf1c3f5b8d2460b4712 {\n",
       "                    position: relative;\n",
       "                    width: 100.0%;\n",
       "                    height: 100.0%;\n",
       "                    left: 0.0%;\n",
       "                    top: 0.0%;\n",
       "                }\n",
       "                .leaflet-container { font-size: 1rem; }\n",
       "            &lt;/style&gt;\n",
       "        \n",
       "&lt;/head&gt;\n",
       "&lt;body&gt;\n",
       "    \n",
       "    \n",
       "            &lt;div class=&quot;folium-map&quot; id=&quot;map_df77ad0fa9c37cf1c3f5b8d2460b4712&quot; &gt;&lt;/div&gt;\n",
       "        \n",
       "&lt;/body&gt;\n",
       "&lt;script&gt;\n",
       "    \n",
       "    \n",
       "            var map_df77ad0fa9c37cf1c3f5b8d2460b4712 = L.map(\n",
       "                &quot;map_df77ad0fa9c37cf1c3f5b8d2460b4712&quot;,\n",
       "                {\n",
       "                    center: [0.0, 0.0],\n",
       "                    crs: L.CRS.EPSG3857,\n",
       "                    zoom: 2,\n",
       "                    zoomControl: true,\n",
       "                    preferCanvas: false,\n",
       "                }\n",
       "            );\n",
       "\n",
       "            \n",
       "\n",
       "        \n",
       "    \n",
       "            var tile_layer_88282ad41c2d4118cbf69890af288944 = L.tileLayer(\n",
       "                &quot;https://tile.openstreetmap.org/{z}/{x}/{y}.png&quot;,\n",
       "                {&quot;attribution&quot;: &quot;\\u0026copy; \\u003ca href=\\&quot;https://www.openstreetmap.org/copyright\\&quot;\\u003eOpenStreetMap\\u003c/a\\u003e contributors&quot;, &quot;detectRetina&quot;: false, &quot;maxNativeZoom&quot;: 19, &quot;maxZoom&quot;: 19, &quot;minZoom&quot;: 0, &quot;noWrap&quot;: false, &quot;opacity&quot;: 1, &quot;subdomains&quot;: &quot;abc&quot;, &quot;tms&quot;: false}\n",
       "            );\n",
       "        \n",
       "    \n",
       "            tile_layer_88282ad41c2d4118cbf69890af288944.addTo(map_df77ad0fa9c37cf1c3f5b8d2460b4712);\n",
       "        \n",
       "&lt;/script&gt;\n",
       "&lt;/html&gt;\" style=\"position:absolute;width:100%;height:100%;left:0;top:0;border:none !important;\" allowfullscreen webkitallowfullscreen mozallowfullscreen></iframe></div></div>"
      ],
      "text/plain": [
       "<folium.folium.Map at 0x1faa5bbf790>"
      ]
     },
     "execution_count": 33,
     "metadata": {},
     "output_type": "execute_result"
    }
   ],
   "source": [
    "m"
   ]
  },
  {
   "cell_type": "code",
   "execution_count": null,
   "id": "fe84b68e",
   "metadata": {},
   "outputs": [],
   "source": []
  }
 ],
 "metadata": {
  "kernelspec": {
   "display_name": "Python 3 (ipykernel)",
   "language": "python",
   "name": "python3"
  },
  "language_info": {
   "codemirror_mode": {
    "name": "ipython",
    "version": 3
   },
   "file_extension": ".py",
   "mimetype": "text/x-python",
   "name": "python",
   "nbconvert_exporter": "python",
   "pygments_lexer": "ipython3",
   "version": "3.10.13"
  }
 },
 "nbformat": 4,
 "nbformat_minor": 5
}
