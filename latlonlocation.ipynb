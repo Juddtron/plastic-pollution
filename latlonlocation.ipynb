{
 "cells": [
  {
   "cell_type": "code",
   "execution_count": 5,
   "id": "37b12a4e-04c5-423a-abad-2870a9956d34",
   "metadata": {},
   "outputs": [],
   "source": [
    "# import dependencies\n",
    "import csv"
   ]
  },
  {
   "cell_type": "code",
   "execution_count": 15,
   "id": "be700d6b-9820-4b65-8d51-7407c5ed895e",
   "metadata": {},
   "outputs": [],
   "source": [
    "# Open the .txt file for reading\n",
    "with open('./Resources/lat_lon_location1.txt', 'r', encoding='utf-8') as input_file:\n",
    "    #Create a data_list to store the extracted data\n",
    "    data_list = []\n",
    "\n",
    "    #iterate throught each line in the input file\n",
    "    for line in input_file:\n",
    "        #Split the line based on the commas\n",
    "        parts = line.split(',')\n",
    "\n",
    "        #Extract latitude, longtitude, and location values\n",
    "        latitude = float(parts[0].split(': ')[1].strip())\n",
    "        longitude = float(parts[1].split(': ')[1].strip())\n",
    "        location = parts[2].split(': ')[1].strip().strip('\"')\n",
    "        country = parts[-1].split(': ')[-1].strip().strip('\"')\n",
    "\n",
    "        #Extract the 'Country' from the 'Location' field\n",
    "        # country = location2\n",
    "\n",
    "        #Append the extracted data to the list\n",
    "        data_list.append([latitude, longitude,location, country])\n",
    "\n",
    "        # print(location2)\n",
    "# Open the .csv file for writing\n",
    "with open('./Resources/latloncountry.csv', 'w', newline='', encoding='utf-8') as output_file:\n",
    "    #Create a CSV writer\n",
    "    csv_writer = csv.writer(output_file)\n",
    "\n",
    "    #Write a header row\n",
    "    csv_writer.writerow(['Latitude', 'Longitude', 'Location', 'Country'])\n",
    "\n",
    "    #Write the data from the list to the .csv file\n",
    "    csv_writer.writerows(data_list)\n",
    "    "
   ]
  },
  {
   "cell_type": "code",
   "execution_count": null,
   "id": "f50ff85e-6ddc-408c-9544-a68d6e725be3",
   "metadata": {},
   "outputs": [],
   "source": []
  },
  {
   "cell_type": "code",
   "execution_count": null,
   "id": "18645bd9-bda0-4f1c-80af-05dca7604200",
   "metadata": {},
   "outputs": [],
   "source": []
  }
 ],
 "metadata": {
  "kernelspec": {
   "display_name": "Python 3 (ipykernel)",
   "language": "python",
   "name": "python3"
  },
  "language_info": {
   "codemirror_mode": {
    "name": "ipython",
    "version": 3
   },
   "file_extension": ".py",
   "mimetype": "text/x-python",
   "name": "python",
   "nbconvert_exporter": "python",
   "pygments_lexer": "ipython3",
   "version": "3.11.5"
  }
 },
 "nbformat": 4,
 "nbformat_minor": 5
}
